{
 "cells": [
  {
   "cell_type": "markdown",
   "metadata": {
    "collapsed": true
   },
   "source": [
    "# My Jupyter Notebook on IBM Watson Studio"
   ]
  },
  {
   "cell_type": "markdown",
   "metadata": {},
   "source": [
    "__Amina OUSSALEH TAOUFIK__<br>\n",
    "Data Scientist"
   ]
  },
  {
   "cell_type": "markdown",
   "metadata": {},
   "source": [
    "_I am intersted in Data Science because it will provide me with great tools and skills much needed in todaya's market.  Data Science will enable me to empower the use of Data for a better decision making._"
   ]
  },
  {
   "cell_type": "markdown",
   "metadata": {},
   "source": [
    "### In our first Jupyter Notebook, we will start with the famous 'Hello World' sample. The following code will print 'Hello World !!'."
   ]
  },
  {
   "cell_type": "code",
   "execution_count": 2,
   "metadata": {},
   "outputs": [
    {
     "name": "stdout",
     "output_type": "stream",
     "text": [
      "Hello World !!\n"
     ]
    }
   ],
   "source": [
    "print(\"Hello World !!\")"
   ]
  },
  {
   "cell_type": "markdown",
   "metadata": {},
   "source": [
    "Writing a good Jupyter Notebook~ consist on respecting the ~defaults~ following rules :\n",
    "1. Use Markdown\n",
    "1. Interpret Your Numbers\n",
    "1. Format Your Code\n",
    "***\n",
    "Other tips can also make your Jupyter Notebook more understanble and easy to use and re-use by you and your peers. Tips like:\n",
    "- Comment Your Code\n",
    "- Restart and Re-Run Your Notebook\n",
    "- Don’t leave in spaghetti output\n",
    "\n",
    "***\n",
    "In this Markdown section we completed the following formating tips:\n",
    "\n",
    "| Formating      | Done |\n",
    "| --------------- | ---- |\n",
    "| Horizontal rule | yes |\n",
    "| Bulleted list  | yes |\n",
    "| Numbered list  | yes |\n",
    "| Tables         | yes |\n",
    "| Hyperlinks     | yes |\n",
    "| Images         | yes |\n",
    "| Code/syntax highlighting| no  |\n",
    "| Blocked quotes | no  |\n",
    "| Strikethrough  | yes |\n",
    "\n",
    "***\n",
    "These tips were extracted from the following link: __[Writing Good Jupyter Notebooks](https://www.practicaldatascience.org/)__ \n",
    "<br>\n",
    "![Programming tips](https://www.calltutors.com/resources/images/Programming-icon.png)"
   ]
  }
 ],
 "metadata": {
  "kernelspec": {
   "display_name": "Python 3.9",
   "language": "python",
   "name": "python3"
  },
  "language_info": {
   "codemirror_mode": {
    "name": "ipython",
    "version": 3
   },
   "file_extension": ".py",
   "mimetype": "text/x-python",
   "name": "python",
   "nbconvert_exporter": "python",
   "pygments_lexer": "ipython3",
   "version": "3.9.12"
  }
 },
 "nbformat": 4,
 "nbformat_minor": 1
}
